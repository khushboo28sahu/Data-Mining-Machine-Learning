{
  "cells": [
    {
      "cell_type": "markdown",
      "metadata": {
        "id": "view-in-github",
        "colab_type": "text"
      },
      "source": [
        "<a href=\"https://colab.research.google.com/github/khushboo28sahu/Data-Mining-Machine-Learning/blob/main/ScoreStatsFrmCommentary.ipynb\" target=\"_parent\"><img src=\"https://colab.research.google.com/assets/colab-badge.svg\" alt=\"Open In Colab\"/></a>"
      ]
    },
    {
      "cell_type": "code",
      "execution_count": null,
      "metadata": {
        "id": "j1Ryea7eVdij"
      },
      "outputs": [],
      "source": [
        "import re"
      ]
    },
    {
      "cell_type": "code",
      "execution_count": null,
      "metadata": {
        "id": "5LjpPPIkVdip"
      },
      "outputs": [],
      "source": [
        "f = open('BangladeshCommentry.txt', 'r')\n",
        "fclean = open('CleanCommentray.txt', 'w+')"
      ]
    },
    {
      "cell_type": "code",
      "execution_count": null,
      "metadata": {
        "id": "cPuCqMvpVdit",
        "outputId": "01388b8a-79e7-48ea-c4f1-c22941aaa9a0"
      },
      "outputs": [
        {
          "data": {
            "text/plain": [
              "'\\n19.6\\n6\\nAl-Amin Hossain to Pandya, 6 runs, short, on the leg stump and Krunal finds the maximum this time, pulls it in the air, giving it his all. Over deep midwicket boundary\\n19.5\\n1\\nAl-Amin Hossain to Washington Sundar, 1 run, length ball at the body, loses his shape on the pull, a single to midwicket\\n19.4\\n6\\nAl-Amin Hossain to Washington Sundar, 6 runs, a touch fuller on the stumps and Washington just chips it over mid-off and it just keeps sailing, hits the boundary hoarding on the full\\n19.3\\n1\\nAl-Amin Hossain to Pandya, 1 run, length ball on the pads, drags the pull down towards fine leg\\n19.2\\n1lb\\nAl-Amin Hossain to Washington Sundar, 1 leg bye, length ball down the leg side, misses the flick, gets hit on the thigh, a0ther leg bye\\n19.1\\n1lb\\nAl-Amin Hossain to Pandya, 1 leg bye, length ball on the stumps, goes for the pull but misses, collects a leg bye\\nAl-Amin\\n\\n\\n18.6\\n6\\nShafiul Islam to Washington Sundar, 6 runs, slower one but Washington is ready for it, transfer the weight back and pulls it over wide long-on. Neat connection, clears the boundary with ease\\n18.5\\n1\\nShafiul Islam to Pandya, 1 run, slower one, fuller on the stumps, pushed towards mid-off\\n18.4\\n4\\nShafiul Islam to Pandya, 4 runs, short and wide outside off, uses the pace of the bowler and cuts it between short third man and point\\n18.3\\n1\\nShafiul Islam to Washington Sundar, 1 run, length ball on the stumps, pulls it towards deep midwicket\\nWashington Sundar, a0ther left-hander\\n\\n18.2\\nW\\nShafiul Islam to Pant, W runs, length ball on the stumps, Pant looks to loft it over long-on, doesn\\'t get the required power behind it and an easy catch for Naim, his second of the day\\nRR Pant c Mohammad Naim b Shafiul Islam 27 (26b 3x4 0x6) SR: 103.84\\n\\n18.1\\n2\\nShafiul Islam to Pant, 2 runs, length ball outside off, pulled towards deep square leg, Pant wants the second, has to put in the dive. The throw is 0t at the top of the stumps, would have been close had Mushfiqur collected it\\nShafiul 0w\\n\\n17.6\\n1lb\\nAl-Amin Hossain to Pant, 1 leg bye, length ball on the pads, looks to flick it away but misses, collects a leg bye\\n17.5\\n1\\nAl-Amin Hossain to Pandya, 1 run, a0ther slower one, way down the leg side, Krunal just chips it in the air, was early into the shot but luckily for him it lands well short of deep midwicket\\n17.4\\n1\\nAl-Amin Hossain to Pant, 1 run, length ball, this one is bowled at full pace and Pant is late on the pull, a single to midwicket\\n17.3\\n0\\nAl-Amin Hossain to Pant, 0 run, down the track but gets bamboozled by the legcutter, was too early into the shot, looking to hit it towards midwicket\\n17.2\\n4\\nAl-Amin Hossain to Pant, 4 runs, short one, a slower bouncer on middle and leg, Pant swivels and helps it over the wicketkeeper, just lobbing it over than pulling actually\\n17.1\\n1\\nAl-Amin Hossain to Pandya, 1 run, starts with a slower one on the pads, clipped away behind square leg\\nAl-Amin\\n16.6\\n1\\nMustafizur Rahman to Pandya, 1 run, a0ther cutter, length outside off, guides it towards third man to get off the mark\\nKrunal Pandya, a0ther left-hander, to face\\n16.5\\n1\\nMustafizur Rahman to Pant, 1 run, length outside off, opens the face of the bat to steer it towards third man\\n16.4\\n0\\nMustafizur Rahman to Pant, 0 run, a slower one outside off, Pant looks to hoick it over midwicket but gets beaten as the ball hardly bounces\\nIbnu Akram: \"Even 140 seems a hard task 0w, lot relies on Pant.\"\\n\\n16.3\\n0\\nMustafizur Rahman to Pant, 0 run, length ball angling in, looks to flick it on the leg side, misses and gets hit on the thigh\\nVarun: \"These are clear warning signs for India. Dhawan played more than one third of 20 overs and made just 40 runs. Not only does it put unnecessary pressure on other batsmen, it gives an edge to the other team too. The good part is that India still have a lot of time to correct this. \"\\n\\n16.2\\n4\\nMustafizur Rahman to Pant, 4 runs, length outside off, Pant stands tall and punches it behind point, opening the face of the bat to find the gap\\n16.1\\n2\\nMustafizur Rahman to Pant, 2 runs, length ball around off, moves towards the bowler and taps it towards midwicket, scampers back for the second\\nMustafizur 0w\\n15.6\\nW\\nAfif Hossain to Dube, W runs, Afif has plucked one out here, one-handed over his head. Was a length ball on the stumps, Dube looked to work it on the leg side but the ball stopped at him and popped over the bowler\\'s head who timed his jump to take it with his right hand\\nS Dube c & b Afif Hossain 1 (4b 0x4 0x6) SR: 25.00\\n\\n15.5\\n1\\nAfif Hossain to Pant, 1 run, fuller on the stumps, nudged around midwicket, once again looks for the second but this time makes an early call to send his partner back\\n15.4\\n4\\nAfif Hossain to Pant, 4 runs, short and some room outside off, cuts it hard, the sweeper cover puts in the slide and reaches there but can0t stop the ball\\n15.3\\n1\\nAfif Hossain to Dube, 1 run, fuller on the stumps, looks to drill down the ground but fails to middle, a single towards square leg off the inner half\\n15.2\\n0\\nAfif Hossain to Dube, 0 run,\\n15.1\\n1\\nAfif Hossain to Pant, 1 run, pitched up on the stumps, clears his front leg and drives it towards long-on\\n\\n14.6\\n0\\nMahmudullah to Dube, 0 run, fuller around off, comes forward and defends\\nDebutant Dube\\n\\n14.5\\nW\\nMahmudullah to Pant, 1 run, W runs, length ball on the pads, Pant plays it gently towards midwicket, they complete the first run quickly, Pant calls for the second and Dhawan responds, but then Pant changes his mind realising it\\'s impossible for him to make it. Mahmudullah himself chases the ball, puts in the slide and throws it to the keeper. Dhawan tries to get back but is well short as Mushfiqur breaks the stumps\\nS Dhawan run out (Mahmudullah/†Mushfiqur Rahim) 41 (42b 3x4 1x6) SR: 97.61\\n\\n14.4\\n1\\nMahmudullah to Dhawan, 1 run, fuller this time, pushed towards midwicket\\n14.4\\n1w\\nMahmudullah to Dhawan, 1 wide, Mahmudullah fires it wide outside off anticipating Dhawan coming down the track, Dhawan stays in his crease and gets a wide\\n14.3\\n0\\nMahmudullah to Dhawan, 0 run, reverse sweep this time but straight towards short third man, was a full ball around off\\n14.2\\n6\\nMahmudullah to Dhawan, 6 runs, launched over long-on! Down the track, almost to the pitch of the ball and extends his arms, clears the fielder easily\\n14.1\\n1\\nMahmudullah to Pant, 1 run, fuller outside off, the ball rolls towards cover off the outer half, played with softer hands too\\nMahmudullah 0w, eighth bowler in the 15th over\\n\\n13.6\\n0\\nAfif Hossain to Dhawan, 0 run, length outside off, too close to cut but Dhawan goes for it, can0t beat the man at cover-point though\\n13.5\\n1\\nAfif Hossain to Pant, 1 run, length ball on the stumps, pushed towards midwicket from the back foot\\n13.4\\n0\\nAfif Hossain to Pant, 0 run, fuller outside off, looks to push towards long-off, doesn\\'t middle and the ball dribbles towards the bowler\\n13.3\\n0\\nAfif Hossain to Pant, 0 run, fuller around off, stays alongside the line of the ball and blocks\\n13.2\\n0\\nAfif Hossain to Pant, 0 run, a touch fuller outside off, Pant comes forward to block but gets beaten as it spins away\\n13.1\\n1\\nAfif Hossain to Dhawan, 1 run, down the track but Afif saw him coming and shortened his length, Dhawan loses his shape as he looks to force it on the off side, a single in front of square leg off the inner half\\n\\n12.6\\n1\\nMosaddek Hossain to Dhawan, 1 run, short and pulled again, this time straight towards deep midwicket\\n12.5\\n1\\nMosaddek Hossain to Pant, 1 run, length ball on the pads, nudges it towards short midwicket, the bowler himself does the fielding. Pant was thinking of a second but there\\'s only one there\\n12.4\\n1\\nMosaddek Hossain to Dhawan, 1 run, length outside off, punched towards sweeper cover\\n12.3\\n4\\nMosaddek Hossain to Dhawan, 4 runs, short and Dhawan latches on to it, goes back and pulls it between deep midwicket and deep square leg for a much-needed boundary\\n12.2\\n1\\nMosaddek Hossain to Pant, 1 run, fuller on the stumps, played gently towards midwicket\\n12.1\\n0\\nMosaddek Hossain to Pant, 0 run, length ball, flatter outside off, pushed towards covers\\nMosadek\\n\\n\\n11.6\\n0\\nAfif Hossain to Dhawan, 0 run, a bit of confusion there, Dhawan nudges the length ball towards the right of extra cover and sets off, Pant is unmoved and Dhawan had to retrace his steps. All safe in the end though\\n11.5\\n0\\nAfif Hossain to Dhawan, 0 run, length ball outside off, pushes it on the off side but cover fielder cuts it off\\nTamim: \"Afif is the next superstar of BD cricket. Very similar to Shakib.\"\\n\\n11.4\\n1\\nAfif Hossain to Pant, 1 run, fuller on the stumps, nudged towards long-on\\n11.3\\n1\\nAfif Hossain to Dhawan, 1 run, fuller outside off, reaches out and drives it towards deep cover\\n11.2\\n0\\nAfif Hossain to Dhawan, 0 run, down the ground but Afif shortens his length, pushed towards short extra cover\\n11.1\\n0\\nAfif Hossain to Dhawan, 0 run, fuller on the off, pushed it towards short midwicket\\nAfif, around the wicket. An offspinner with two left-hand batsman in\\n\\n\\n10.6\\n0\\nAminul Islam to Pant, 0 run, length ball outside off, goes back and punches but can0t beat the man at short cover\\n10.5\\n1\\nAminul Islam to Dhawan, 1 run, fuller outside off, comes forward and drives it wide of long-on\\nAbhishek Jain: \"It was Dhawan who was responsible for Iyer\\'s wicket. 22 off 25 is criminal in t20\"\\n\\n10.4\\n1\\nAminul Islam to Pant, 1 run, length ball on middle and spinning on to the pads, flicked away behind square leg, off the mark\\nPant 0w\\n\\n10.3\\n1\\nAminul Islam to Dhawan, 1 run, dropped short, Dhawan goes for the pull but doesn\\'t get the timing right, also hits it towards deep midwicket, only a single\\n10.2\\nW\\nAminul Islam to Iyer, W runs, fuller outside off and Iyer goes aerial once again, the ball was spinning away from him and takes the toe end of the bat, Naim at long-off settles under it to take it comfortably. Aminul has his second\\nSS Iyer c Mohammad Naim b Aminul Islam 22 (13b 1x4 2x6) SR: 169.23\\n\\n10.1\\n1\\nAminul Islam to Dhawan, 1 run, length ball outside off and spinning in, cuts it towards deep point\\nThe predicted total is 157\\n\\n\\nTime for a change in commentary. Can India get a further 100 in the final 10? Find out with Hemant Brar\\n\\n9.6\\n2\\nSoumya Sarkar to Iyer, 2 runs, length ball, outside off, and cut sharply to deep point. Looked like four, but the fielder does well to intercept\\n9.5\\n4\\nSoumya Sarkar to Iyer, 4 runs, finds the gap! Full toss, seaming into his toes, and he drills a whipped shot between wide long on and deep midwicket\\n9.4\\n1\\nSoumya Sarkar to Dhawan, 1 run, back of a length, on middle, and pulled along the ground to deep midwicket\\nDheepan: \"Where is Prithvi Shaw ? I don\\'t see him in any format 0w a days? \" -- Banned due to a doping violation. The ban ends later this month\\n\\n9.3\\n1\\nSoumya Sarkar to Iyer, 1 run, length ball, outside off, and nudged past the 0n-striker to long on for a single\\n9.2\\n0\\nSoumya Sarkar to Iyer, 0 run, length ball, outside off, and punched to cover for a quick run\\n9.1\\n1\\nSoumya Sarkar to Dhawan, 1 run, slower ball, full outside leg stump. Worked away to deep backward square\\n\\n\\n8.6\\n6\\nAminul Islam to Iyer, 6 runs, clobbered! Length on off, and he plants his front leg towards the pitch of the ball before hammering a shot over the bowler\\'s head! Take that\\nAbheek Dasgupta: \"This is a 160 wicket. Get to 100 for the loss of 2 or 3 in 15, and that can help India reach that target. As the momentum\\'s towards India, early BD wickets to push the game firmly in India\\'s favour.\"\\n\\n8.5\\n0\\nAminul Islam to Iyer, 0 run, full, outside off. Tapped away to cover\\n8.4\\n1\\nAminul Islam to Dhawan, 1 run, full, on leg stump. Flicked to square leg, and stopped by Fizz by diving\\n8.3\\n0\\nAminul Islam to Dhawan, 0 run, good length, outside off, and he mistimes a cut\\n8.2\\n1\\nAminul Islam to Iyer, 1 run, full toss on off, and he slices an attempted slog over the bowler\\'s head. Lands well short of long-off. Iyer will consider himself lucky since it wasn\\'t called 0-ball for height. Could\\'ve been out there\\n8.1\\n1\\nAminul Islam to Dhawan, 1 run, full, on off, and he tries to work it leg-side but a leading edge very nearly carries to cover. Dhawan lucky!\\n\\nRaunak Kapoor\\n✔\\n@RaunakRK\\nStill feel that India are stuck with that outdated approach to start a T20 innings. It’s what cost them the SF of the last WT20. Considering that, Shreyas Iyer’s approach is refreshing, and highly needed. #INDvBAN\\n\\n660\\n7:37 PM - Nov 3, 2019 · Mumbai, India\\nTwitter Ads info and privacy\\n125 people are talking about this\\nEND OF OVER:8 | 7 Runs | INDIA: 51/2 | RR: 6.37\\nShreyas Iyer\\n8 (5b)\\nShikhar Dhawan\\n19 (21b)\\nSoumya Sarkar\\n1-0-7-0\\nAminul Islam\\n1-0-9-1\\nTejas: \"Since Iyer is coming with the lot of IPL experience of playing in this ground - I have high expectations on him. Go Iyer show what you are capable of and cement your position in the team.\"\\n\\n7.6\\n0\\nSoumya Sarkar to Iyer, 0 run, length ball, outside off, and he sticks his bat out to guide a shot to point\\n7.5\\n1\\nSoumya Sarkar to Dhawan, 1 run, full on off, and tapped away to the vacant region near deep point\\n7.4\\n4\\nSoumya Sarkar to Dhawan, 4 runs, played fine! Length ball, on his hips, and simply uses his wrists to play a deft shot between keeper and short fine leg\\n7.3\\n1\\nSoumya Sarkar to Iyer, 1 run, length ball, outside off, and tapped to point for a quick single\\n7.2\\n0\\nSoumya Sarkar to Iyer, 0 run, full, outside off, and he\\'s through his drive too early. Mistimed to cover\\nGaurav: \"Can\\'t see Rahul on the flight to Australia!\"\\n\\n7.1\\n1\\nSoumya Sarkar to Dhawan, 1 run, full, outside off and angling further away. Driven to deep extra cover\\nSarkar with some medium pace\\n\\n\\nDarpan Tikiya: \"@Hari - How naive! Have you checked out Rohit\\'s white-ball record in Aus? A clean hitter like him can0t clear the boundaries there? Tell you what, Rohit, Virat, Rahul, Dhawan, Jadeja etc. are also few of the best when it comes to running between wickets, so dont worry.\"\\n\\n6.6\\n6\\nAminul Islam to Iyer, 6 runs, going, going, gone! Full, outside off and turning away. Iyer gets to the pitch of the ball and then beautifully lifts a six over wide long off to end the over on a high\\n6.5\\n1\\nAminul Islam to Dhawan, 1 run, arm ball, angling into his pads. Worked off his legs to deep backward square\\n6.4\\n1\\nAminul Islam to Iyer, 1 run, full outside off, and his attempted drive is sliced over point. Lands short of the fielder in the deep\\nSriram: \"@hari - i thought India beat Aussies 3-0 down under and even the recent T20 was 1-1 and Odis 2-1? So i guess our IPL heroes k0w the Aussies grounds well\"\\n\\n6.3\\nW\\nAminul Islam to Rahul, W runs, soft dismissal! Length ball, outside off and turning away. Rahul looks to cut but it hits the bat near the bottom half. Eventually, he checks the shot, and it lobs in the air for a simple catch at short cover\\nKL Rahul c Mahmudullah b Aminul Islam 15 (17b 2x4 0x6) SR: 88.23\\n\\n6.2\\n1\\nAminul Islam to Dhawan, 1 run, half-tracker, wide outside off, and Dhawan tries to attack. Flat-bats a shot to midwicket\\n6.1\\n0\\nAminul Islam to Dhawan, 0 run, full outside off from around the wicket. Turning in, and driven to cover\\nAminul , right-arm legbreak\\n\\n\\n\\n5.6\\n1\\nShafiul Islam to Dhawan, 1 run, full, on his toes, and worked off his boot to deep backward square leg. End of Powerplay: 35 for 1\\n5.5\\n0\\nShafiul Islam to Dhawan, 0 run, back of a length on off, cramping Dhawan for space. Comes down the wicket but mistimes it back to the bowler. Dhawan coming down the wicket to create some pace\\nSantosh Battula: \"I don\\'t mind Dhawan taking some balls to be on song.. The team needs him to be confident and in-form for the T20 World cup.\"\\n\\n5.4\\n1\\nShafiul Islam to Rahul, 1 run, full, on off, and he goes leg-side once again. Lifts a shot off his toes, but it lands short of the fielder at deep midwicket\\n5.3\\n4\\nShafiul Islam to Rahul, 4 runs, length ball, on off, and angling in. Bends his knees and then uses his wrists to successfully flick a shot off his hips over square leg for a boundary. Sight for sore eyes\\nSanjay Krishna : \"Wondering if physiologically speaking, the players are doing themselves more harm than good by playing in these conditions. But then again, Indian cricket has always believed that the show must go on.\"\\n\\n5.2\\n0\\nShafiul Islam to Rahul, 0 run, length ball, outside off, and punched square to cover point\\n5.1\\n0\\nShafiul Islam to Rahul, 0 run, full, on off, and flicked to midwicket. Minimal footwork from Rahul\\n\\n\\n4.6\\n4\\nMustafizur Rahman to Dhawan, 4 runs, full, outside off, and the attempted square drive flies off his outside edge to the backward point boundary for four. Much needed for India\\n4.5\\n1\\nMustafizur Rahman to Rahul, 1 run, fullish, outside leg stump. Guided with soft hands to the leg side before they scamper across for one\\nSachin: \"With Kohli and Co. discussing \"All guns Blazing\" approach(remember two fours by Hitman in first over), KL seems on a0ther planet. This way we may 0t see him in Australia.\"\\n\\n4.4\\n1\\nMustafizur Rahman to Dhawan, 1 run, back of a length, outside off, and he muscles a cut in front of square. Fielded by cover, but can\\'t stop the single\\n4.3\\n0\\nMustafizur Rahman to Dhawan, 0 run, inside-edged! Full, outside off, and he prepares to drive, but it takes an edge onto his pads\\n4.2\\n0\\nMustafizur Rahman to Dhawan, 0 run, extra bounce this time! Back of a length outside off, and Dhawan wants to flay this over point, but can\\'t make any connection\\n4.1\\n1\\nMustafizur Rahman to Rahul, 1 run, back of a length, on leg stump. He rides the bounce before turning it behind square for a jogging single\\nHere\\'s the Fizz. India still going at under six per over\\n3.6\\n1\\nAl-Amin Hossain to Rahul, 1 run, full, angling in, and worked off his pads to the leg side for a quick single\\n3.5\\n0\\nAl-Amin Hossain to Rahul, 0 run, nearly chopped on! Length ball, outside off, and he shapes up to cut but the ball stays low. Under-edged towards Mushfiqur\\n3.4\\n0\\nAl-Amin Hossain to Rahul, 0 run, back of a length, on off stump. Rahul stays on the back foot before defending it away\\n3.3\\n1\\nAl-Amin Hossain to Dhawan, 1 run, back of a length, on middle stump. A0ther slower ball. Dhawan k0cks it down with soft hands and calls towards Rahul for a quick single\\n3.2\\n1\\nAl-Amin Hossain to Rahul, 1 run, full, on off stump. Looks to defend, but the ball hits his outside edge before rolling away to third man\\n3.1\\n1\\nAl-Amin Hossain to Dhawan, 1 run, back of a length, on leg stump, with the pace taken off. Dhawan defends it into his body, before the ball rolls away. They scamper across for one with the bowler looking to attempt a run-out\\n\\n2.6\\n0\\nShafiul Islam to Rahul, 0 run, through him! Fullish, outside off, and he presses forward to drive. But the ball goes between the bat-body gap, and into the keeper\\'s gloves\\n2.5\\n0\\nShafiul Islam to Rahul, 0 run, back of a length on middle. Walks across the stumps and fended back\\nShashank Mishra: \"This looks a good Kotla wicket, something we have 0t seen for a while. The ball is coming on to the bat nicely, true bounce off the pitch and some movement too. Second innings has always been a concern at Kotla with the pitch breaking down but given this is a T20 match and with dew setting in, this could be a cracker of a match.\"\\n\\n2.4\\n0\\nShafiul Islam to Rahul, 0 run, length ball outside off, and he checks an attempted drive. Ball rolls away to cover\\n2.3\\n4\\nShafiul Islam to Rahul, 4 runs, length ball, outside off, and he walks towards the ball before crunching a square cut to the point boundary\\n2.2\\n1\\nShafiul Islam to Dhawan, 1 run, back of a length, on leg stump, and flicked off his hips to deep backward square leg\\nAjay Dhanak: \"Shivam Dube looked compact and explosive at the same time from the nets video of BCCI. Just hope there\\'s 0 short ball problems. I would definitely try that option if I was the Ban skipper\"\\n\\n2.1\\n1\\nShafiul Islam to Rahul, 1 run, angling into his pads, and he swivels before flicking to deep backward square\\nEarly predictions from ESPNcricinfo\\'s Forecaster: India will finish on 169\\n\\n1.6\\n0\\nAl-Amin Hossain to Dhawan, 0 run, full, on middle, and he caresses a drive, but straight to mid-off\\n1.5\\n1\\nAl-Amin Hossain to Rahul, 1 run, full on middle, and flicked off his pads to midwicket for a quick single\\nAmit: \"Two dots, two ones, two fours and a wicket. One over encapsulates the entire 20 overs. \"\\n\\n1.4\\n1\\nAl-Amin Hossain to Dhawan, 1 run, length ball on leg stump, and he comes down the wicket again to tap it past the 0n-striker\\n1.3\\n0\\nAl-Amin Hossain to Dhawan, 0 run, full, on leg, and he uses his feet to meet the ball. Crunched back to the bowler\\n1.2\\n0\\nAl-Amin Hossain to Dhawan, 0 run, full, rolls his fingers over this ball. Lands on middle, and pushed back past the bowler\\n1.1\\n0\\nAl-Amin Hossain to Dhawan, 0 run, full on off, and angling away. Tapped towards cover\\nAl-Amin Hossain\\n\\n0.6\\nW\\nShafiul Islam to Sharma, W runs, given lbw, but Rohit reviews! Slower ball, full outside off but seaming in. Rohit\\'s deceived by the lack of pace and is through his defensive shot early. Ball hits his back leg and the umpire raises his fingers swiftly for the lbw. Rohit discusses with Dhawan before choosing to review. Replays show that the ball is clipping middle stump, so it\\'s \\'umpire\\'s call\\' on the wicket and therefore Rohit must walk back. India retain their review though\\nRG Sharma lbw b Shafiul Islam 9 (5b 2x4 0x6) SR: 180.00\\n\\n0.5\\n4\\nShafiul Islam to Sharma, 4 runs, punched! Length ball, outside off, and hammered past cover\\'s right! Becomes T20I cricket\\'s highest run-scorer\\n0.4\\n0\\nShafiul Islam to Sharma, 0 run, full, wide outside off, and swinging further away. Drives well, but finds cover point\\n0.3\\n1\\nShafiul Islam to Dhawan, 1 run, length ball, on leg stump, and tapped towards point for a quick single. They hesitate for the single as the fielder swoops in before breaking the stumps. Rohit, though, was comfortably in\\n0.2\\n1\\nShafiul Islam to Sharma, 1 run, fixes his line. Length ball, outside off but angling in. Fended off the back foot to mid-on for a quick single\\n0.1\\n4\\nShafiul Islam to Sharma, 4 runs, length ball, angling down the leg side, and guided past short fine leg\\'s right! Easy pickings'"
            ]
          },
          "execution_count": 5,
          "metadata": {},
          "output_type": "execute_result"
        }
      ],
      "source": [
        "f1=f.read().replace('no','0')\n",
        "f2=f1.replace('FOUR','4')\n",
        "f3=f2.replace('SIX','6')\n",
        "f4=f3.replace('OUT', 'W runs')\n",
        "#f1\n",
        "f4"
      ]
    },
    {
      "cell_type": "code",
      "execution_count": null,
      "metadata": {
        "id": "rs-0xkR3Vdiw"
      },
      "outputs": [],
      "source": [
        "## clean = re.findall(r'[\\w]+\\s*to\\s*[\\w]+,\\s*[\\d]*\\s*run', f.read())\n",
        "\n",
        "clean = re.findall(r'[\\w]+\\s*to\\s*[\\w]+,\\s*[\\d|[W]]*\\s*run', f4)\n",
        "\n",
        "##clean = re.findall(r'[\\w]+\\s*to\\s*[\\w]+,\\s*[\\d]*\\s*', f3)"
      ]
    },
    {
      "cell_type": "raw",
      "metadata": {
        "id": "p70UOzhiVdiy"
      },
      "source": [
        "Modify the above RegEx to include the key words 'no', 'FOUR','SIX', 'OUT'"
      ]
    },
    {
      "cell_type": "code",
      "execution_count": null,
      "metadata": {
        "id": "0RH1I0A3Vdi0",
        "outputId": "8d553098-312c-461e-948b-34938e487d08"
      },
      "outputs": [
        {
          "data": {
            "text/plain": [
              "['Hossain to Pandya, 6 run',\n",
              " 'Hossain to Pandya, 1 run',\n",
              " 'Islam to Pandya, 1 run',\n",
              " 'Islam to Pandya, 4 run',\n",
              " 'Islam to Pant, W run',\n",
              " 'Islam to Pant, 2 run',\n",
              " 'Hossain to Pandya, 1 run',\n",
              " 'Hossain to Pant, 1 run',\n",
              " 'Hossain to Pant, 0 run',\n",
              " 'Hossain to Pant, 4 run',\n",
              " 'Hossain to Pandya, 1 run',\n",
              " 'Rahman to Pandya, 1 run',\n",
              " 'Rahman to Pant, 1 run',\n",
              " 'Rahman to Pant, 0 run',\n",
              " 'Rahman to Pant, 0 run',\n",
              " 'Rahman to Pant, 4 run',\n",
              " 'Rahman to Pant, 2 run',\n",
              " 'Hossain to Dube, W run',\n",
              " 'Hossain to Pant, 1 run',\n",
              " 'Hossain to Pant, 4 run',\n",
              " 'Hossain to Dube, 1 run',\n",
              " 'Hossain to Dube, 0 run',\n",
              " 'Hossain to Pant, 1 run',\n",
              " 'Mahmudullah to Dube, 0 run',\n",
              " 'Mahmudullah to Pant, 1 run',\n",
              " 'Mahmudullah to Dhawan, 1 run',\n",
              " 'Mahmudullah to Dhawan, 0 run',\n",
              " 'Mahmudullah to Dhawan, 6 run',\n",
              " 'Mahmudullah to Pant, 1 run',\n",
              " 'Hossain to Dhawan, 0 run',\n",
              " 'Hossain to Pant, 1 run',\n",
              " 'Hossain to Pant, 0 run',\n",
              " 'Hossain to Pant, 0 run',\n",
              " 'Hossain to Pant, 0 run',\n",
              " 'Hossain to Dhawan, 1 run',\n",
              " 'Hossain to Dhawan, 1 run',\n",
              " 'Hossain to Pant, 1 run',\n",
              " 'Hossain to Dhawan, 1 run',\n",
              " 'Hossain to Dhawan, 4 run',\n",
              " 'Hossain to Pant, 1 run',\n",
              " 'Hossain to Pant, 0 run',\n",
              " 'Hossain to Dhawan, 0 run',\n",
              " 'Hossain to Dhawan, 0 run',\n",
              " 'Hossain to Pant, 1 run',\n",
              " 'Hossain to Dhawan, 1 run',\n",
              " 'Hossain to Dhawan, 0 run',\n",
              " 'Hossain to Dhawan, 0 run',\n",
              " 'Islam to Pant, 0 run',\n",
              " 'Islam to Dhawan, 1 run',\n",
              " 'Islam to Pant, 1 run',\n",
              " 'Islam to Dhawan, 1 run',\n",
              " 'Islam to Iyer, W run',\n",
              " 'Islam to Dhawan, 1 run',\n",
              " 'Sarkar to Iyer, 2 run',\n",
              " 'Sarkar to Iyer, 4 run',\n",
              " 'Sarkar to Dhawan, 1 run',\n",
              " 'Sarkar to Iyer, 1 run',\n",
              " 'Sarkar to Iyer, 0 run',\n",
              " 'Sarkar to Dhawan, 1 run',\n",
              " 'Islam to Iyer, 6 run',\n",
              " 'Islam to Iyer, 0 run',\n",
              " 'Islam to Dhawan, 1 run',\n",
              " 'Islam to Dhawan, 0 run',\n",
              " 'Islam to Iyer, 1 run',\n",
              " 'Islam to Dhawan, 1 run',\n",
              " 'Sarkar to Iyer, 0 run',\n",
              " 'Sarkar to Dhawan, 1 run',\n",
              " 'Sarkar to Dhawan, 4 run',\n",
              " 'Sarkar to Iyer, 1 run',\n",
              " 'Sarkar to Iyer, 0 run',\n",
              " 'Sarkar to Dhawan, 1 run',\n",
              " 'Islam to Iyer, 6 run',\n",
              " 'Islam to Dhawan, 1 run',\n",
              " 'Islam to Iyer, 1 run',\n",
              " 'Islam to Rahul, W run',\n",
              " 'Islam to Dhawan, 1 run',\n",
              " 'Islam to Dhawan, 0 run',\n",
              " 'Islam to Dhawan, 1 run',\n",
              " 'Islam to Dhawan, 0 run',\n",
              " 'Islam to Rahul, 1 run',\n",
              " 'Islam to Rahul, 4 run',\n",
              " 'Islam to Rahul, 0 run',\n",
              " 'Islam to Rahul, 0 run',\n",
              " 'Rahman to Dhawan, 4 run',\n",
              " 'Rahman to Rahul, 1 run',\n",
              " 'Rahman to Dhawan, 1 run',\n",
              " 'Rahman to Dhawan, 0 run',\n",
              " 'Rahman to Dhawan, 0 run',\n",
              " 'Rahman to Rahul, 1 run',\n",
              " 'Hossain to Rahul, 1 run',\n",
              " 'Hossain to Rahul, 0 run',\n",
              " 'Hossain to Rahul, 0 run',\n",
              " 'Hossain to Dhawan, 1 run',\n",
              " 'Hossain to Rahul, 1 run',\n",
              " 'Hossain to Dhawan, 1 run',\n",
              " 'Islam to Rahul, 0 run',\n",
              " 'Islam to Rahul, 0 run',\n",
              " 'Islam to Rahul, 0 run',\n",
              " 'Islam to Rahul, 4 run',\n",
              " 'Islam to Dhawan, 1 run',\n",
              " 'Islam to Rahul, 1 run',\n",
              " 'Hossain to Dhawan, 0 run',\n",
              " 'Hossain to Rahul, 1 run',\n",
              " 'Hossain to Dhawan, 1 run',\n",
              " 'Hossain to Dhawan, 0 run',\n",
              " 'Hossain to Dhawan, 0 run',\n",
              " 'Hossain to Dhawan, 0 run',\n",
              " 'Islam to Sharma, W run',\n",
              " 'Islam to Sharma, 4 run',\n",
              " 'Islam to Sharma, 0 run',\n",
              " 'Islam to Dhawan, 1 run',\n",
              " 'Islam to Sharma, 1 run',\n",
              " 'Islam to Sharma, 4 run']"
            ]
          },
          "execution_count": 7,
          "metadata": {},
          "output_type": "execute_result"
        }
      ],
      "source": [
        "clean"
      ]
    },
    {
      "cell_type": "code",
      "execution_count": null,
      "metadata": {
        "id": "RAwkcqBtVdi1"
      },
      "outputs": [],
      "source": [
        "clean1 = ','.join(str(e) for e in clean)"
      ]
    },
    {
      "cell_type": "code",
      "execution_count": null,
      "metadata": {
        "id": "0zEJ-8o0Vdi3",
        "outputId": "c11c5af9-d6fa-4966-f62f-5eb5ea7e6eef"
      },
      "outputs": [
        {
          "data": {
            "text/plain": [
              "'Hossain to Pandya, 6 run,Hossain to Pandya, 1 run,Islam to Pandya, 1 run,Islam to Pandya, 4 run,Islam to Pant, W run,Islam to Pant, 2 run,Hossain to Pandya, 1 run,Hossain to Pant, 1 run,Hossain to Pant, 0 run,Hossain to Pant, 4 run,Hossain to Pandya, 1 run,Rahman to Pandya, 1 run,Rahman to Pant, 1 run,Rahman to Pant, 0 run,Rahman to Pant, 0 run,Rahman to Pant, 4 run,Rahman to Pant, 2 run,Hossain to Dube, W run,Hossain to Pant, 1 run,Hossain to Pant, 4 run,Hossain to Dube, 1 run,Hossain to Dube, 0 run,Hossain to Pant, 1 run,Mahmudullah to Dube, 0 run,Mahmudullah to Pant, 1 run,Mahmudullah to Dhawan, 1 run,Mahmudullah to Dhawan, 0 run,Mahmudullah to Dhawan, 6 run,Mahmudullah to Pant, 1 run,Hossain to Dhawan, 0 run,Hossain to Pant, 1 run,Hossain to Pant, 0 run,Hossain to Pant, 0 run,Hossain to Pant, 0 run,Hossain to Dhawan, 1 run,Hossain to Dhawan, 1 run,Hossain to Pant, 1 run,Hossain to Dhawan, 1 run,Hossain to Dhawan, 4 run,Hossain to Pant, 1 run,Hossain to Pant, 0 run,Hossain to Dhawan, 0 run,Hossain to Dhawan, 0 run,Hossain to Pant, 1 run,Hossain to Dhawan, 1 run,Hossain to Dhawan, 0 run,Hossain to Dhawan, 0 run,Islam to Pant, 0 run,Islam to Dhawan, 1 run,Islam to Pant, 1 run,Islam to Dhawan, 1 run,Islam to Iyer, W run,Islam to Dhawan, 1 run,Sarkar to Iyer, 2 run,Sarkar to Iyer, 4 run,Sarkar to Dhawan, 1 run,Sarkar to Iyer, 1 run,Sarkar to Iyer, 0 run,Sarkar to Dhawan, 1 run,Islam to Iyer, 6 run,Islam to Iyer, 0 run,Islam to Dhawan, 1 run,Islam to Dhawan, 0 run,Islam to Iyer, 1 run,Islam to Dhawan, 1 run,Sarkar to Iyer, 0 run,Sarkar to Dhawan, 1 run,Sarkar to Dhawan, 4 run,Sarkar to Iyer, 1 run,Sarkar to Iyer, 0 run,Sarkar to Dhawan, 1 run,Islam to Iyer, 6 run,Islam to Dhawan, 1 run,Islam to Iyer, 1 run,Islam to Rahul, W run,Islam to Dhawan, 1 run,Islam to Dhawan, 0 run,Islam to Dhawan, 1 run,Islam to Dhawan, 0 run,Islam to Rahul, 1 run,Islam to Rahul, 4 run,Islam to Rahul, 0 run,Islam to Rahul, 0 run,Rahman to Dhawan, 4 run,Rahman to Rahul, 1 run,Rahman to Dhawan, 1 run,Rahman to Dhawan, 0 run,Rahman to Dhawan, 0 run,Rahman to Rahul, 1 run,Hossain to Rahul, 1 run,Hossain to Rahul, 0 run,Hossain to Rahul, 0 run,Hossain to Dhawan, 1 run,Hossain to Rahul, 1 run,Hossain to Dhawan, 1 run,Islam to Rahul, 0 run,Islam to Rahul, 0 run,Islam to Rahul, 0 run,Islam to Rahul, 4 run,Islam to Dhawan, 1 run,Islam to Rahul, 1 run,Hossain to Dhawan, 0 run,Hossain to Rahul, 1 run,Hossain to Dhawan, 1 run,Hossain to Dhawan, 0 run,Hossain to Dhawan, 0 run,Hossain to Dhawan, 0 run,Islam to Sharma, W run,Islam to Sharma, 4 run,Islam to Sharma, 0 run,Islam to Dhawan, 1 run,Islam to Sharma, 1 run,Islam to Sharma, 4 run'"
            ]
          },
          "execution_count": 9,
          "metadata": {},
          "output_type": "execute_result"
        }
      ],
      "source": [
        "clean1"
      ]
    },
    {
      "cell_type": "code",
      "execution_count": null,
      "metadata": {
        "id": "p0YrFTOlVdi5",
        "outputId": "b419524f-9d5a-45c9-b553-f3fb4f48c63a"
      },
      "outputs": [
        {
          "data": {
            "text/plain": [
              "'Hossain , Pandya, 6 run,Hossain , Pandya, 1 run,Islam , Pandya, 1 run,Islam , Pandya, 4 run,Islam , Pant, W run,Islam , Pant, 2 run,Hossain , Pandya, 1 run,Hossain , Pant, 1 run,Hossain , Pant, 0 run,Hossain , Pant, 4 run,Hossain , Pandya, 1 run,Rahman , Pandya, 1 run,Rahman , Pant, 1 run,Rahman , Pant, 0 run,Rahman , Pant, 0 run,Rahman , Pant, 4 run,Rahman , Pant, 2 run,Hossain , Dube, W run,Hossain , Pant, 1 run,Hossain , Pant, 4 run,Hossain , Dube, 1 run,Hossain , Dube, 0 run,Hossain , Pant, 1 run,Mahmudullah , Dube, 0 run,Mahmudullah , Pant, 1 run,Mahmudullah , Dhawan, 1 run,Mahmudullah , Dhawan, 0 run,Mahmudullah , Dhawan, 6 run,Mahmudullah , Pant, 1 run,Hossain , Dhawan, 0 run,Hossain , Pant, 1 run,Hossain , Pant, 0 run,Hossain , Pant, 0 run,Hossain , Pant, 0 run,Hossain , Dhawan, 1 run,Hossain , Dhawan, 1 run,Hossain , Pant, 1 run,Hossain , Dhawan, 1 run,Hossain , Dhawan, 4 run,Hossain , Pant, 1 run,Hossain , Pant, 0 run,Hossain , Dhawan, 0 run,Hossain , Dhawan, 0 run,Hossain , Pant, 1 run,Hossain , Dhawan, 1 run,Hossain , Dhawan, 0 run,Hossain , Dhawan, 0 run,Islam , Pant, 0 run,Islam , Dhawan, 1 run,Islam , Pant, 1 run,Islam , Dhawan, 1 run,Islam , Iyer, W run,Islam , Dhawan, 1 run,Sarkar , Iyer, 2 run,Sarkar , Iyer, 4 run,Sarkar , Dhawan, 1 run,Sarkar , Iyer, 1 run,Sarkar , Iyer, 0 run,Sarkar , Dhawan, 1 run,Islam , Iyer, 6 run,Islam , Iyer, 0 run,Islam , Dhawan, 1 run,Islam , Dhawan, 0 run,Islam , Iyer, 1 run,Islam , Dhawan, 1 run,Sarkar , Iyer, 0 run,Sarkar , Dhawan, 1 run,Sarkar , Dhawan, 4 run,Sarkar , Iyer, 1 run,Sarkar , Iyer, 0 run,Sarkar , Dhawan, 1 run,Islam , Iyer, 6 run,Islam , Dhawan, 1 run,Islam , Iyer, 1 run,Islam , Rahul, W run,Islam , Dhawan, 1 run,Islam , Dhawan, 0 run,Islam , Dhawan, 1 run,Islam , Dhawan, 0 run,Islam , Rahul, 1 run,Islam , Rahul, 4 run,Islam , Rahul, 0 run,Islam , Rahul, 0 run,Rahman , Dhawan, 4 run,Rahman , Rahul, 1 run,Rahman , Dhawan, 1 run,Rahman , Dhawan, 0 run,Rahman , Dhawan, 0 run,Rahman , Rahul, 1 run,Hossain , Rahul, 1 run,Hossain , Rahul, 0 run,Hossain , Rahul, 0 run,Hossain , Dhawan, 1 run,Hossain , Rahul, 1 run,Hossain , Dhawan, 1 run,Islam , Rahul, 0 run,Islam , Rahul, 0 run,Islam , Rahul, 0 run,Islam , Rahul, 4 run,Islam , Dhawan, 1 run,Islam , Rahul, 1 run,Hossain , Dhawan, 0 run,Hossain , Rahul, 1 run,Hossain , Dhawan, 1 run,Hossain , Dhawan, 0 run,Hossain , Dhawan, 0 run,Hossain , Dhawan, 0 run,Islam , Sharma, W run,Islam , Sharma, 4 run,Islam , Sharma, 0 run,Islam , Dhawan, 1 run,Islam , Sharma, 1 run,Islam , Sharma, 4 run'"
            ]
          },
          "execution_count": 10,
          "metadata": {},
          "output_type": "execute_result"
        }
      ],
      "source": [
        "clean1 = clean1.replace('to', ',')\n",
        "clean1"
      ]
    },
    {
      "cell_type": "code",
      "execution_count": null,
      "metadata": {
        "id": "f2gF_VwzVdi8"
      },
      "outputs": [],
      "source": [
        "# clean1.replace('run', ', \\r\\n')"
      ]
    },
    {
      "cell_type": "code",
      "execution_count": null,
      "metadata": {
        "id": "u19vmFBrVdi9",
        "outputId": "d12d55d0-c458-4c0b-f7ae-b7c522f75970"
      },
      "outputs": [
        {
          "data": {
            "text/plain": [
              "'Hossain , Pandya, 6 \\nHossain , Pandya, 1 \\nIslam , Pandya, 1 \\nIslam , Pandya, 4 \\nIslam , Pant, W \\nIslam , Pant, 2 \\nHossain , Pandya, 1 \\nHossain , Pant, 1 \\nHossain , Pant, 0 \\nHossain , Pant, 4 \\nHossain , Pandya, 1 \\nRahman , Pandya, 1 \\nRahman , Pant, 1 \\nRahman , Pant, 0 \\nRahman , Pant, 0 \\nRahman , Pant, 4 \\nRahman , Pant, 2 \\nHossain , Dube, W \\nHossain , Pant, 1 \\nHossain , Pant, 4 \\nHossain , Dube, 1 \\nHossain , Dube, 0 \\nHossain , Pant, 1 \\nMahmudullah , Dube, 0 \\nMahmudullah , Pant, 1 \\nMahmudullah , Dhawan, 1 \\nMahmudullah , Dhawan, 0 \\nMahmudullah , Dhawan, 6 \\nMahmudullah , Pant, 1 \\nHossain , Dhawan, 0 \\nHossain , Pant, 1 \\nHossain , Pant, 0 \\nHossain , Pant, 0 \\nHossain , Pant, 0 \\nHossain , Dhawan, 1 \\nHossain , Dhawan, 1 \\nHossain , Pant, 1 \\nHossain , Dhawan, 1 \\nHossain , Dhawan, 4 \\nHossain , Pant, 1 \\nHossain , Pant, 0 \\nHossain , Dhawan, 0 \\nHossain , Dhawan, 0 \\nHossain , Pant, 1 \\nHossain , Dhawan, 1 \\nHossain , Dhawan, 0 \\nHossain , Dhawan, 0 \\nIslam , Pant, 0 \\nIslam , Dhawan, 1 \\nIslam , Pant, 1 \\nIslam , Dhawan, 1 \\nIslam , Iyer, W \\nIslam , Dhawan, 1 \\nSarkar , Iyer, 2 \\nSarkar , Iyer, 4 \\nSarkar , Dhawan, 1 \\nSarkar , Iyer, 1 \\nSarkar , Iyer, 0 \\nSarkar , Dhawan, 1 \\nIslam , Iyer, 6 \\nIslam , Iyer, 0 \\nIslam , Dhawan, 1 \\nIslam , Dhawan, 0 \\nIslam , Iyer, 1 \\nIslam , Dhawan, 1 \\nSarkar , Iyer, 0 \\nSarkar , Dhawan, 1 \\nSarkar , Dhawan, 4 \\nSarkar , Iyer, 1 \\nSarkar , Iyer, 0 \\nSarkar , Dhawan, 1 \\nIslam , Iyer, 6 \\nIslam , Dhawan, 1 \\nIslam , Iyer, 1 \\nIslam , Rahul, W \\nIslam , Dhawan, 1 \\nIslam , Dhawan, 0 \\nIslam , Dhawan, 1 \\nIslam , Dhawan, 0 \\nIslam , Rahul, 1 \\nIslam , Rahul, 4 \\nIslam , Rahul, 0 \\nIslam , Rahul, 0 \\nRahman , Dhawan, 4 \\nRahman , Rahul, 1 \\nRahman , Dhawan, 1 \\nRahman , Dhawan, 0 \\nRahman , Dhawan, 0 \\nRahman , Rahul, 1 \\nHossain , Rahul, 1 \\nHossain , Rahul, 0 \\nHossain , Rahul, 0 \\nHossain , Dhawan, 1 \\nHossain , Rahul, 1 \\nHossain , Dhawan, 1 \\nIslam , Rahul, 0 \\nIslam , Rahul, 0 \\nIslam , Rahul, 0 \\nIslam , Rahul, 4 \\nIslam , Dhawan, 1 \\nIslam , Rahul, 1 \\nHossain , Dhawan, 0 \\nHossain , Rahul, 1 \\nHossain , Dhawan, 1 \\nHossain , Dhawan, 0 \\nHossain , Dhawan, 0 \\nHossain , Dhawan, 0 \\nIslam , Sharma, W \\nIslam , Sharma, 4 \\nIslam , Sharma, 0 \\nIslam , Dhawan, 1 \\nIslam , Sharma, 1 \\nIslam , Sharma, 4 run'"
            ]
          },
          "execution_count": 12,
          "metadata": {},
          "output_type": "execute_result"
        }
      ],
      "source": [
        "clean2 = re.sub(r\"run,\", \"\\n\", clean1)\n",
        "clean2"
      ]
    },
    {
      "cell_type": "code",
      "execution_count": null,
      "metadata": {
        "id": "EBMla4TbVdi-"
      },
      "outputs": [],
      "source": [
        "clean2 = re.sub(r\"run\",\"\", clean2)"
      ]
    },
    {
      "cell_type": "code",
      "execution_count": null,
      "metadata": {
        "id": "Q9RlMeWkVdi_"
      },
      "outputs": [],
      "source": [
        "fclean2 = open(\"fclean2.txt\", 'w')"
      ]
    },
    {
      "cell_type": "code",
      "execution_count": null,
      "metadata": {
        "id": "y12dya80VdjA"
      },
      "outputs": [],
      "source": [
        "fclean2.write(clean2)\n",
        "fclean2.close()"
      ]
    },
    {
      "cell_type": "code",
      "execution_count": null,
      "metadata": {
        "id": "s9rQYliUVdjA"
      },
      "outputs": [],
      "source": [
        "import pandas as pd"
      ]
    },
    {
      "cell_type": "code",
      "execution_count": null,
      "metadata": {
        "id": "jIy0J4KgVdjB"
      },
      "outputs": [],
      "source": [
        "df = pd.read_csv('fclean2.txt',  names = ['Bowler', 'Batsmen', 'Runs'])"
      ]
    },
    {
      "cell_type": "code",
      "execution_count": null,
      "metadata": {
        "id": "kIQAlILpVdjC",
        "outputId": "e75a579d-e106-4055-ef41-289098c4332e"
      },
      "outputs": [
        {
          "data": {
            "text/html": [
              "<div>\n",
              "<style scoped>\n",
              "    .dataframe tbody tr th:only-of-type {\n",
              "        vertical-align: middle;\n",
              "    }\n",
              "\n",
              "    .dataframe tbody tr th {\n",
              "        vertical-align: top;\n",
              "    }\n",
              "\n",
              "    .dataframe thead th {\n",
              "        text-align: right;\n",
              "    }\n",
              "</style>\n",
              "<table border=\"1\" class=\"dataframe\">\n",
              "  <thead>\n",
              "    <tr style=\"text-align: right;\">\n",
              "      <th></th>\n",
              "      <th>Bowler</th>\n",
              "      <th>Batsmen</th>\n",
              "      <th>Runs</th>\n",
              "    </tr>\n",
              "  </thead>\n",
              "  <tbody>\n",
              "    <tr>\n",
              "      <th>0</th>\n",
              "      <td>Hossain</td>\n",
              "      <td>Pandya</td>\n",
              "      <td>6</td>\n",
              "    </tr>\n",
              "    <tr>\n",
              "      <th>1</th>\n",
              "      <td>Hossain</td>\n",
              "      <td>Pandya</td>\n",
              "      <td>1</td>\n",
              "    </tr>\n",
              "    <tr>\n",
              "      <th>2</th>\n",
              "      <td>Islam</td>\n",
              "      <td>Pandya</td>\n",
              "      <td>1</td>\n",
              "    </tr>\n",
              "    <tr>\n",
              "      <th>3</th>\n",
              "      <td>Islam</td>\n",
              "      <td>Pandya</td>\n",
              "      <td>4</td>\n",
              "    </tr>\n",
              "    <tr>\n",
              "      <th>4</th>\n",
              "      <td>Islam</td>\n",
              "      <td>Pant</td>\n",
              "      <td>W</td>\n",
              "    </tr>\n",
              "  </tbody>\n",
              "</table>\n",
              "</div>"
            ],
            "text/plain": [
              "     Bowler  Batsmen Runs\n",
              "0  Hossain    Pandya   6 \n",
              "1  Hossain    Pandya   1 \n",
              "2    Islam    Pandya   1 \n",
              "3    Islam    Pandya   4 \n",
              "4    Islam      Pant   W "
            ]
          },
          "execution_count": 18,
          "metadata": {},
          "output_type": "execute_result"
        }
      ],
      "source": [
        "df.head()"
      ]
    },
    {
      "cell_type": "code",
      "execution_count": null,
      "metadata": {
        "id": "xHrehFemVdjD"
      },
      "outputs": [],
      "source": [
        "dfBat = df.drop(['Bowler'],axis=1)"
      ]
    },
    {
      "cell_type": "code",
      "execution_count": null,
      "metadata": {
        "id": "SLxdmNS3VdjD",
        "outputId": "411ef181-649f-492a-917e-f670463697bb"
      },
      "outputs": [
        {
          "data": {
            "text/html": [
              "<div>\n",
              "<style scoped>\n",
              "    .dataframe tbody tr th:only-of-type {\n",
              "        vertical-align: middle;\n",
              "    }\n",
              "\n",
              "    .dataframe tbody tr th {\n",
              "        vertical-align: top;\n",
              "    }\n",
              "\n",
              "    .dataframe thead th {\n",
              "        text-align: right;\n",
              "    }\n",
              "</style>\n",
              "<table border=\"1\" class=\"dataframe\">\n",
              "  <thead>\n",
              "    <tr style=\"text-align: right;\">\n",
              "      <th></th>\n",
              "      <th>Batsmen</th>\n",
              "      <th>Runs</th>\n",
              "    </tr>\n",
              "  </thead>\n",
              "  <tbody>\n",
              "    <tr>\n",
              "      <th>0</th>\n",
              "      <td>Pandya</td>\n",
              "      <td>6</td>\n",
              "    </tr>\n",
              "    <tr>\n",
              "      <th>1</th>\n",
              "      <td>Pandya</td>\n",
              "      <td>1</td>\n",
              "    </tr>\n",
              "    <tr>\n",
              "      <th>2</th>\n",
              "      <td>Pandya</td>\n",
              "      <td>1</td>\n",
              "    </tr>\n",
              "    <tr>\n",
              "      <th>3</th>\n",
              "      <td>Pandya</td>\n",
              "      <td>4</td>\n",
              "    </tr>\n",
              "    <tr>\n",
              "      <th>4</th>\n",
              "      <td>Pant</td>\n",
              "      <td>W</td>\n",
              "    </tr>\n",
              "    <tr>\n",
              "      <th>5</th>\n",
              "      <td>Pant</td>\n",
              "      <td>2</td>\n",
              "    </tr>\n",
              "    <tr>\n",
              "      <th>6</th>\n",
              "      <td>Pandya</td>\n",
              "      <td>1</td>\n",
              "    </tr>\n",
              "    <tr>\n",
              "      <th>7</th>\n",
              "      <td>Pant</td>\n",
              "      <td>1</td>\n",
              "    </tr>\n",
              "    <tr>\n",
              "      <th>8</th>\n",
              "      <td>Pant</td>\n",
              "      <td>0</td>\n",
              "    </tr>\n",
              "    <tr>\n",
              "      <th>9</th>\n",
              "      <td>Pant</td>\n",
              "      <td>4</td>\n",
              "    </tr>\n",
              "  </tbody>\n",
              "</table>\n",
              "</div>"
            ],
            "text/plain": [
              "   Batsmen Runs\n",
              "0   Pandya   6 \n",
              "1   Pandya   1 \n",
              "2   Pandya   1 \n",
              "3   Pandya   4 \n",
              "4     Pant   W \n",
              "5     Pant   2 \n",
              "6   Pandya   1 \n",
              "7     Pant   1 \n",
              "8     Pant   0 \n",
              "9     Pant   4 "
            ]
          },
          "execution_count": 20,
          "metadata": {},
          "output_type": "execute_result"
        }
      ],
      "source": [
        "dfBat.head(10)"
      ]
    },
    {
      "cell_type": "code",
      "execution_count": null,
      "metadata": {
        "id": "JylOA2LDVdjE"
      },
      "outputs": [],
      "source": [
        "dfBowl = df.drop(['Batsmen'], axis = 1)"
      ]
    },
    {
      "cell_type": "code",
      "execution_count": null,
      "metadata": {
        "id": "J0rEJ5QAVdjF",
        "outputId": "eab01dc6-883d-41d6-a38f-46cdac17da8d"
      },
      "outputs": [
        {
          "data": {
            "text/html": [
              "<div>\n",
              "<style scoped>\n",
              "    .dataframe tbody tr th:only-of-type {\n",
              "        vertical-align: middle;\n",
              "    }\n",
              "\n",
              "    .dataframe tbody tr th {\n",
              "        vertical-align: top;\n",
              "    }\n",
              "\n",
              "    .dataframe thead th {\n",
              "        text-align: right;\n",
              "    }\n",
              "</style>\n",
              "<table border=\"1\" class=\"dataframe\">\n",
              "  <thead>\n",
              "    <tr style=\"text-align: right;\">\n",
              "      <th></th>\n",
              "      <th>Bowler</th>\n",
              "      <th>Runs</th>\n",
              "    </tr>\n",
              "  </thead>\n",
              "  <tbody>\n",
              "    <tr>\n",
              "      <th>0</th>\n",
              "      <td>Hossain</td>\n",
              "      <td>6</td>\n",
              "    </tr>\n",
              "    <tr>\n",
              "      <th>1</th>\n",
              "      <td>Hossain</td>\n",
              "      <td>1</td>\n",
              "    </tr>\n",
              "    <tr>\n",
              "      <th>2</th>\n",
              "      <td>Islam</td>\n",
              "      <td>1</td>\n",
              "    </tr>\n",
              "    <tr>\n",
              "      <th>3</th>\n",
              "      <td>Islam</td>\n",
              "      <td>4</td>\n",
              "    </tr>\n",
              "    <tr>\n",
              "      <th>4</th>\n",
              "      <td>Islam</td>\n",
              "      <td>W</td>\n",
              "    </tr>\n",
              "  </tbody>\n",
              "</table>\n",
              "</div>"
            ],
            "text/plain": [
              "     Bowler Runs\n",
              "0  Hossain    6 \n",
              "1  Hossain    1 \n",
              "2    Islam    1 \n",
              "3    Islam    4 \n",
              "4    Islam    W "
            ]
          },
          "execution_count": 22,
          "metadata": {},
          "output_type": "execute_result"
        }
      ],
      "source": [
        "dfBowl.head()"
      ]
    },
    {
      "cell_type": "code",
      "execution_count": null,
      "metadata": {
        "id": "eZjw5vUZVdjF",
        "outputId": "0ee5cd45-0711-4d5d-af39-2dfb983f4105"
      },
      "outputs": [
        {
          "data": {
            "text/html": [
              "<div>\n",
              "<style scoped>\n",
              "    .dataframe tbody tr th:only-of-type {\n",
              "        vertical-align: middle;\n",
              "    }\n",
              "\n",
              "    .dataframe tbody tr th {\n",
              "        vertical-align: top;\n",
              "    }\n",
              "\n",
              "    .dataframe thead th {\n",
              "        text-align: right;\n",
              "    }\n",
              "</style>\n",
              "<table border=\"1\" class=\"dataframe\">\n",
              "  <thead>\n",
              "    <tr style=\"text-align: right;\">\n",
              "      <th></th>\n",
              "      <th>Bowler</th>\n",
              "      <th>Runs</th>\n",
              "    </tr>\n",
              "  </thead>\n",
              "  <tbody>\n",
              "    <tr>\n",
              "      <th>0</th>\n",
              "      <td>Hossain</td>\n",
              "      <td>6</td>\n",
              "    </tr>\n",
              "    <tr>\n",
              "      <th>1</th>\n",
              "      <td>Hossain</td>\n",
              "      <td>1</td>\n",
              "    </tr>\n",
              "    <tr>\n",
              "      <th>2</th>\n",
              "      <td>Islam</td>\n",
              "      <td>1</td>\n",
              "    </tr>\n",
              "    <tr>\n",
              "      <th>3</th>\n",
              "      <td>Islam</td>\n",
              "      <td>4</td>\n",
              "    </tr>\n",
              "    <tr>\n",
              "      <th>4</th>\n",
              "      <td>Islam</td>\n",
              "      <td>W</td>\n",
              "    </tr>\n",
              "    <tr>\n",
              "      <th>5</th>\n",
              "      <td>Islam</td>\n",
              "      <td>2</td>\n",
              "    </tr>\n",
              "    <tr>\n",
              "      <th>6</th>\n",
              "      <td>Hossain</td>\n",
              "      <td>1</td>\n",
              "    </tr>\n",
              "    <tr>\n",
              "      <th>7</th>\n",
              "      <td>Hossain</td>\n",
              "      <td>1</td>\n",
              "    </tr>\n",
              "    <tr>\n",
              "      <th>8</th>\n",
              "      <td>Hossain</td>\n",
              "      <td>0</td>\n",
              "    </tr>\n",
              "    <tr>\n",
              "      <th>9</th>\n",
              "      <td>Hossain</td>\n",
              "      <td>4</td>\n",
              "    </tr>\n",
              "  </tbody>\n",
              "</table>\n",
              "</div>"
            ],
            "text/plain": [
              "    Bowler Runs\n",
              "0  Hossain   6 \n",
              "1  Hossain   1 \n",
              "2    Islam   1 \n",
              "3    Islam   4 \n",
              "4    Islam   W \n",
              "5    Islam   2 \n",
              "6  Hossain   1 \n",
              "7  Hossain   1 \n",
              "8  Hossain   0 \n",
              "9  Hossain   4 "
            ]
          },
          "execution_count": 23,
          "metadata": {},
          "output_type": "execute_result"
        }
      ],
      "source": [
        "# Removing whitespaces from the Bowler column obects of the dfBowl dataframe:\n",
        "dfBowl['Bowler'] = dfBowl['Bowler'].str.strip(' ')\n",
        "dfBowl.head(10)"
      ]
    },
    {
      "cell_type": "code",
      "execution_count": null,
      "metadata": {
        "id": "Wf0fHm4KVdjG",
        "outputId": "25ee048f-4d88-47c2-fa67-46b3f0d071c6"
      },
      "outputs": [
        {
          "data": {
            "text/html": [
              "<div>\n",
              "<style scoped>\n",
              "    .dataframe tbody tr th:only-of-type {\n",
              "        vertical-align: middle;\n",
              "    }\n",
              "\n",
              "    .dataframe tbody tr th {\n",
              "        vertical-align: top;\n",
              "    }\n",
              "\n",
              "    .dataframe thead th {\n",
              "        text-align: right;\n",
              "    }\n",
              "</style>\n",
              "<table border=\"1\" class=\"dataframe\">\n",
              "  <thead>\n",
              "    <tr style=\"text-align: right;\">\n",
              "      <th></th>\n",
              "      <th>Bowler</th>\n",
              "      <th>Runs</th>\n",
              "    </tr>\n",
              "  </thead>\n",
              "  <tbody>\n",
              "    <tr>\n",
              "      <th>0</th>\n",
              "      <td>Hossain</td>\n",
              "      <td>6</td>\n",
              "    </tr>\n",
              "    <tr>\n",
              "      <th>1</th>\n",
              "      <td>Hossain</td>\n",
              "      <td>1</td>\n",
              "    </tr>\n",
              "    <tr>\n",
              "      <th>2</th>\n",
              "      <td>Islam</td>\n",
              "      <td>1</td>\n",
              "    </tr>\n",
              "    <tr>\n",
              "      <th>3</th>\n",
              "      <td>Islam</td>\n",
              "      <td>4</td>\n",
              "    </tr>\n",
              "    <tr>\n",
              "      <th>4</th>\n",
              "      <td>Islam</td>\n",
              "      <td>W</td>\n",
              "    </tr>\n",
              "    <tr>\n",
              "      <th>5</th>\n",
              "      <td>Islam</td>\n",
              "      <td>2</td>\n",
              "    </tr>\n",
              "    <tr>\n",
              "      <th>6</th>\n",
              "      <td>Hossain</td>\n",
              "      <td>1</td>\n",
              "    </tr>\n",
              "    <tr>\n",
              "      <th>7</th>\n",
              "      <td>Hossain</td>\n",
              "      <td>1</td>\n",
              "    </tr>\n",
              "    <tr>\n",
              "      <th>8</th>\n",
              "      <td>Hossain</td>\n",
              "      <td>0</td>\n",
              "    </tr>\n",
              "    <tr>\n",
              "      <th>9</th>\n",
              "      <td>Hossain</td>\n",
              "      <td>4</td>\n",
              "    </tr>\n",
              "  </tbody>\n",
              "</table>\n",
              "</div>"
            ],
            "text/plain": [
              "    Bowler Runs\n",
              "0  Hossain    6\n",
              "1  Hossain    1\n",
              "2    Islam    1\n",
              "3    Islam    4\n",
              "4    Islam    W\n",
              "5    Islam    2\n",
              "6  Hossain    1\n",
              "7  Hossain    1\n",
              "8  Hossain    0\n",
              "9  Hossain    4"
            ]
          },
          "execution_count": 24,
          "metadata": {},
          "output_type": "execute_result"
        }
      ],
      "source": [
        "# Removing whitespaces from the Runs column obects of the dfBowl dataframe:\n",
        "dfBowl['Runs'] = dfBowl['Runs'].str.strip(' ')\n",
        "dfBowl.head(10)"
      ]
    },
    {
      "cell_type": "code",
      "execution_count": null,
      "metadata": {
        "id": "0KAV4L0-VdjH",
        "outputId": "ecd5cbb0-353d-4e6c-decd-941aed4f5b75"
      },
      "outputs": [
        {
          "data": {
            "text/plain": [
              "{'Hossain', 'Islam', 'Mahmudullah', 'Rahman', 'Sarkar'}"
            ]
          },
          "execution_count": 25,
          "metadata": {},
          "output_type": "execute_result"
        }
      ],
      "source": [
        "#Converting the DF to a list:\n",
        "BowlerList = dfBowl['Bowler'].tolist()\n",
        "\n",
        "#Getting only unique values\n",
        "BowlerList = set(BowlerList)\n",
        "BowlerList"
      ]
    },
    {
      "cell_type": "code",
      "execution_count": null,
      "metadata": {
        "id": "jsEH1Us4VdjH",
        "outputId": "59695829-4e59-4d57-dba4-5d1286fb4dc9"
      },
      "outputs": [
        {
          "data": {
            "text/plain": [
              "['Sarkar', 'Hossain', 'Rahman', 'Mahmudullah', 'Islam']"
            ]
          },
          "execution_count": 26,
          "metadata": {},
          "output_type": "execute_result"
        }
      ],
      "source": [
        "#Removing WhiteSpaces from the list objects:\n",
        "BowlerList = [x.strip(' ') for x in BowlerList]\n",
        "BowlerList\n",
        "\n",
        "## Not needed now, as done above with the dataframe itself!"
      ]
    },
    {
      "cell_type": "code",
      "execution_count": null,
      "metadata": {
        "id": "1zfbmu7LVdjI",
        "outputId": "8d04dcd9-f12e-45e9-e5ca-3782ee95bb63"
      },
      "outputs": [
        {
          "data": {
            "text/plain": [
              "{'Sarkar': 0, 'Hossain': 0, 'Rahman': 0, 'Mahmudullah': 0, 'Islam': 0}"
            ]
          },
          "execution_count": 27,
          "metadata": {},
          "output_type": "execute_result"
        }
      ],
      "source": [
        "#Creating Dictionary from BowlerList and initializing with 0\n",
        "BowlDict = {i : 0 for i in BowlerList}\n",
        "BowlDict"
      ]
    },
    {
      "cell_type": "code",
      "execution_count": null,
      "metadata": {
        "id": "5u0X9eB8VdjJ"
      },
      "outputs": [],
      "source": [
        "# BowlDict['Ashwin'] "
      ]
    },
    {
      "cell_type": "code",
      "execution_count": null,
      "metadata": {
        "id": "l-ISDM_DVdjJ",
        "outputId": "48e919df-ce5d-4dbb-d39a-eaaa79b46332"
      },
      "outputs": [
        {
          "data": {
            "text/plain": [
              "0"
            ]
          },
          "execution_count": 30,
          "metadata": {},
          "output_type": "execute_result"
        }
      ],
      "source": [
        "BowlDict[dfBowl.loc[3,'Bowler']]"
      ]
    },
    {
      "cell_type": "code",
      "execution_count": null,
      "metadata": {
        "id": "fqoZaTKaVdjK",
        "outputId": "cfdb05b7-7d3a-49d3-c779-6ebb0003f7a1"
      },
      "outputs": [
        {
          "data": {
            "text/plain": [
              "'1'"
            ]
          },
          "execution_count": 31,
          "metadata": {},
          "output_type": "execute_result"
        }
      ],
      "source": [
        "dfBowl.loc[2,\"Runs\"]"
      ]
    },
    {
      "cell_type": "code",
      "execution_count": null,
      "metadata": {
        "id": "xNzRuJoCVdjK"
      },
      "outputs": [],
      "source": [
        "WicketDict = {}\n",
        "\n",
        "## my_dict[key] = my_dict.get(key, 0) + num\n",
        "for j in range(len(dfBowl)):\n",
        "    if (dfBowl.loc[j,\"Runs\"] == 'W'):\n",
        "        BowlDict[dfBowl.loc[j,\"Bowler\"]] = BowlDict.get(dfBowl.loc[j,\"Bowler\"],0)+1\n",
        "        \n",
        "        \n",
        "\n",
        "#BowlerWkts = "
      ]
    },
    {
      "cell_type": "code",
      "execution_count": null,
      "metadata": {
        "id": "6-ixchhCVdjL",
        "outputId": "d220204f-6322-467d-9229-392f4dc9ceb8"
      },
      "outputs": [
        {
          "data": {
            "text/plain": [
              "{'Sarkar': 0, 'Hossain': 1, 'Rahman': 0, 'Mahmudullah': 0, 'Islam': 4}"
            ]
          },
          "execution_count": 33,
          "metadata": {},
          "output_type": "execute_result"
        }
      ],
      "source": [
        "BowlDict"
      ]
    },
    {
      "cell_type": "code",
      "execution_count": null,
      "metadata": {
        "id": "9Gg14zu5VdjM",
        "outputId": "f5eeae9a-3208-4158-ffc8-fd2ba426f844"
      },
      "outputs": [
        {
          "data": {
            "text/plain": [
              "{'Sarkar': 0, 'Hossain': 1, 'Rahman': 0, 'Mahmudullah': 0, 'Islam': 4}"
            ]
          },
          "execution_count": 34,
          "metadata": {},
          "output_type": "execute_result"
        }
      ],
      "source": [
        "WicketDict = BowlDict\n",
        "WicketDict"
      ]
    },
    {
      "cell_type": "code",
      "execution_count": null,
      "metadata": {
        "id": "QCw6FIdHVdjM"
      },
      "outputs": [],
      "source": [
        "# Removing nonnumeric (that is, 'W') rows\n",
        "# df[pd.to_numeric(df['id'], errors='coerce').notnull()]\n",
        "\n",
        "dfBat = dfBat[pd.to_numeric(df['Runs'], errors = 'coerce').notnull()]\n",
        "dfBowl = dfBowl[pd.to_numeric(df['Runs'], errors = 'coerce').notnull()]"
      ]
    },
    {
      "cell_type": "code",
      "execution_count": null,
      "metadata": {
        "id": "yEhV4vwpVdjN",
        "outputId": "4febcbf0-50fe-45e4-96b5-10e7c0fcd7d5"
      },
      "outputs": [
        {
          "data": {
            "text/html": [
              "<div>\n",
              "<style scoped>\n",
              "    .dataframe tbody tr th:only-of-type {\n",
              "        vertical-align: middle;\n",
              "    }\n",
              "\n",
              "    .dataframe tbody tr th {\n",
              "        vertical-align: top;\n",
              "    }\n",
              "\n",
              "    .dataframe thead th {\n",
              "        text-align: right;\n",
              "    }\n",
              "</style>\n",
              "<table border=\"1\" class=\"dataframe\">\n",
              "  <thead>\n",
              "    <tr style=\"text-align: right;\">\n",
              "      <th></th>\n",
              "      <th>Batsmen</th>\n",
              "      <th>Runs</th>\n",
              "    </tr>\n",
              "  </thead>\n",
              "  <tbody>\n",
              "    <tr>\n",
              "      <th>0</th>\n",
              "      <td>Pandya</td>\n",
              "      <td>6</td>\n",
              "    </tr>\n",
              "    <tr>\n",
              "      <th>1</th>\n",
              "      <td>Pandya</td>\n",
              "      <td>1</td>\n",
              "    </tr>\n",
              "    <tr>\n",
              "      <th>2</th>\n",
              "      <td>Pandya</td>\n",
              "      <td>1</td>\n",
              "    </tr>\n",
              "    <tr>\n",
              "      <th>3</th>\n",
              "      <td>Pandya</td>\n",
              "      <td>4</td>\n",
              "    </tr>\n",
              "    <tr>\n",
              "      <th>5</th>\n",
              "      <td>Pant</td>\n",
              "      <td>2</td>\n",
              "    </tr>\n",
              "  </tbody>\n",
              "</table>\n",
              "</div>"
            ],
            "text/plain": [
              "   Batsmen Runs\n",
              "0   Pandya   6 \n",
              "1   Pandya   1 \n",
              "2   Pandya   1 \n",
              "3   Pandya   4 \n",
              "5     Pant   2 "
            ]
          },
          "execution_count": 36,
          "metadata": {},
          "output_type": "execute_result"
        }
      ],
      "source": [
        "dfBat.head()"
      ]
    },
    {
      "cell_type": "code",
      "execution_count": null,
      "metadata": {
        "id": "uB721bwyVdjN",
        "outputId": "99e88f91-b24a-41b7-8796-02362ffd99c2"
      },
      "outputs": [
        {
          "data": {
            "text/plain": [
              "Batsmen    object\n",
              "Runs       object\n",
              "dtype: object"
            ]
          },
          "execution_count": 37,
          "metadata": {},
          "output_type": "execute_result"
        }
      ],
      "source": [
        "dfBat.dtypes"
      ]
    },
    {
      "cell_type": "code",
      "execution_count": null,
      "metadata": {
        "id": "Nb6vJO__VdjO",
        "outputId": "7bb0cf63-885d-4808-e4c8-4c3e57354040"
      },
      "outputs": [
        {
          "data": {
            "text/html": [
              "<div>\n",
              "<style scoped>\n",
              "    .dataframe tbody tr th:only-of-type {\n",
              "        vertical-align: middle;\n",
              "    }\n",
              "\n",
              "    .dataframe tbody tr th {\n",
              "        vertical-align: top;\n",
              "    }\n",
              "\n",
              "    .dataframe thead th {\n",
              "        text-align: right;\n",
              "    }\n",
              "</style>\n",
              "<table border=\"1\" class=\"dataframe\">\n",
              "  <thead>\n",
              "    <tr style=\"text-align: right;\">\n",
              "      <th></th>\n",
              "      <th>Bowler</th>\n",
              "      <th>Runs</th>\n",
              "    </tr>\n",
              "  </thead>\n",
              "  <tbody>\n",
              "    <tr>\n",
              "      <th>0</th>\n",
              "      <td>Hossain</td>\n",
              "      <td>6</td>\n",
              "    </tr>\n",
              "    <tr>\n",
              "      <th>1</th>\n",
              "      <td>Hossain</td>\n",
              "      <td>1</td>\n",
              "    </tr>\n",
              "    <tr>\n",
              "      <th>2</th>\n",
              "      <td>Islam</td>\n",
              "      <td>1</td>\n",
              "    </tr>\n",
              "    <tr>\n",
              "      <th>3</th>\n",
              "      <td>Islam</td>\n",
              "      <td>4</td>\n",
              "    </tr>\n",
              "    <tr>\n",
              "      <th>5</th>\n",
              "      <td>Islam</td>\n",
              "      <td>2</td>\n",
              "    </tr>\n",
              "  </tbody>\n",
              "</table>\n",
              "</div>"
            ],
            "text/plain": [
              "    Bowler Runs\n",
              "0  Hossain    6\n",
              "1  Hossain    1\n",
              "2    Islam    1\n",
              "3    Islam    4\n",
              "5    Islam    2"
            ]
          },
          "execution_count": 38,
          "metadata": {},
          "output_type": "execute_result"
        }
      ],
      "source": [
        "dfBowl.head()"
      ]
    },
    {
      "cell_type": "code",
      "execution_count": null,
      "metadata": {
        "id": "hrqv0mAYVdjO",
        "outputId": "00efc334-8ba2-489a-e24d-7ed11bd14718"
      },
      "outputs": [
        {
          "data": {
            "text/plain": [
              "Bowler    object\n",
              "Runs      object\n",
              "dtype: object"
            ]
          },
          "execution_count": 39,
          "metadata": {},
          "output_type": "execute_result"
        }
      ],
      "source": [
        "dfBowl.dtypes"
      ]
    },
    {
      "cell_type": "code",
      "execution_count": null,
      "metadata": {
        "id": "eh2FYKf6VdjO",
        "outputId": "77d0f862-f6aa-4484-f473-187ee7a7ba5c"
      },
      "outputs": [
        {
          "data": {
            "text/plain": [
              "Batsmen    object\n",
              "Runs        int64\n",
              "dtype: object"
            ]
          },
          "execution_count": 40,
          "metadata": {},
          "output_type": "execute_result"
        }
      ],
      "source": [
        "## Numeric conversion from object:\n",
        "## df[\"2nd\"] = pd.to_numeric(df[\"2nd\"])\n",
        "\n",
        "dfBat['Runs'] = pd.to_numeric(dfBat['Runs'])\n",
        "dfBat.dtypes"
      ]
    },
    {
      "cell_type": "code",
      "execution_count": null,
      "metadata": {
        "id": "haTxNeOyVdjP",
        "outputId": "17bc9c3e-d05a-4235-c459-d147171009cd"
      },
      "outputs": [
        {
          "data": {
            "text/plain": [
              "Bowler    object\n",
              "Runs       int64\n",
              "dtype: object"
            ]
          },
          "execution_count": 41,
          "metadata": {},
          "output_type": "execute_result"
        }
      ],
      "source": [
        "dfBowl['Runs'] = pd.to_numeric(dfBowl['Runs'])\n",
        "dfBowl.dtypes"
      ]
    },
    {
      "cell_type": "code",
      "execution_count": null,
      "metadata": {
        "id": "bTiWmkWXVdjP",
        "outputId": "fa4fae41-b44d-4c2a-cfc9-5ada92fc1161"
      },
      "outputs": [
        {
          "data": {
            "text/html": [
              "<div>\n",
              "<style scoped>\n",
              "    .dataframe tbody tr th:only-of-type {\n",
              "        vertical-align: middle;\n",
              "    }\n",
              "\n",
              "    .dataframe tbody tr th {\n",
              "        vertical-align: top;\n",
              "    }\n",
              "\n",
              "    .dataframe thead th {\n",
              "        text-align: right;\n",
              "    }\n",
              "</style>\n",
              "<table border=\"1\" class=\"dataframe\">\n",
              "  <thead>\n",
              "    <tr style=\"text-align: right;\">\n",
              "      <th></th>\n",
              "      <th>Runs</th>\n",
              "    </tr>\n",
              "    <tr>\n",
              "      <th>Batsmen</th>\n",
              "      <th></th>\n",
              "    </tr>\n",
              "  </thead>\n",
              "  <tbody>\n",
              "    <tr>\n",
              "      <th>Dhawan</th>\n",
              "      <td>41</td>\n",
              "    </tr>\n",
              "    <tr>\n",
              "      <th>Dube</th>\n",
              "      <td>1</td>\n",
              "    </tr>\n",
              "    <tr>\n",
              "      <th>Iyer</th>\n",
              "      <td>22</td>\n",
              "    </tr>\n",
              "    <tr>\n",
              "      <th>Pandya</th>\n",
              "      <td>15</td>\n",
              "    </tr>\n",
              "    <tr>\n",
              "      <th>Pant</th>\n",
              "      <td>27</td>\n",
              "    </tr>\n",
              "    <tr>\n",
              "      <th>Rahul</th>\n",
              "      <td>15</td>\n",
              "    </tr>\n",
              "    <tr>\n",
              "      <th>Sharma</th>\n",
              "      <td>9</td>\n",
              "    </tr>\n",
              "  </tbody>\n",
              "</table>\n",
              "</div>"
            ],
            "text/plain": [
              "         Runs\n",
              "Batsmen      \n",
              " Dhawan    41\n",
              " Dube       1\n",
              " Iyer      22\n",
              " Pandya    15\n",
              " Pant      27\n",
              " Rahul     15\n",
              " Sharma     9"
            ]
          },
          "execution_count": 42,
          "metadata": {},
          "output_type": "execute_result"
        }
      ],
      "source": [
        "BatTotal = dfBat.groupby(['Batsmen']).sum()\n",
        "BatTotal"
      ]
    },
    {
      "cell_type": "code",
      "execution_count": null,
      "metadata": {
        "id": "XIApRZJQVdjQ",
        "outputId": "2ad1ada2-7cfa-40fe-b603-104e52a6a2b2"
      },
      "outputs": [
        {
          "data": {
            "text/html": [
              "<div>\n",
              "<style scoped>\n",
              "    .dataframe tbody tr th:only-of-type {\n",
              "        vertical-align: middle;\n",
              "    }\n",
              "\n",
              "    .dataframe tbody tr th {\n",
              "        vertical-align: top;\n",
              "    }\n",
              "\n",
              "    .dataframe thead th {\n",
              "        text-align: right;\n",
              "    }\n",
              "</style>\n",
              "<table border=\"1\" class=\"dataframe\">\n",
              "  <thead>\n",
              "    <tr style=\"text-align: right;\">\n",
              "      <th></th>\n",
              "      <th>Runs</th>\n",
              "    </tr>\n",
              "    <tr>\n",
              "      <th>Bowler</th>\n",
              "      <th></th>\n",
              "    </tr>\n",
              "  </thead>\n",
              "  <tbody>\n",
              "    <tr>\n",
              "      <th>Hossain</th>\n",
              "      <td>39</td>\n",
              "    </tr>\n",
              "    <tr>\n",
              "      <th>Islam</th>\n",
              "      <td>51</td>\n",
              "    </tr>\n",
              "    <tr>\n",
              "      <th>Mahmudullah</th>\n",
              "      <td>9</td>\n",
              "    </tr>\n",
              "    <tr>\n",
              "      <th>Rahman</th>\n",
              "      <td>15</td>\n",
              "    </tr>\n",
              "    <tr>\n",
              "      <th>Sarkar</th>\n",
              "      <td>16</td>\n",
              "    </tr>\n",
              "  </tbody>\n",
              "</table>\n",
              "</div>"
            ],
            "text/plain": [
              "             Runs\n",
              "Bowler           \n",
              "Hossain        39\n",
              "Islam          51\n",
              "Mahmudullah     9\n",
              "Rahman         15\n",
              "Sarkar         16"
            ]
          },
          "execution_count": 43,
          "metadata": {},
          "output_type": "execute_result"
        }
      ],
      "source": [
        "BowlTotal = dfBowl.groupby(['Bowler']).sum()\n",
        "BowlTotal"
      ]
    },
    {
      "cell_type": "raw",
      "metadata": {
        "id": "Y6jaiL9PVdjQ"
      },
      "source": [
        "The above DF is a groupby DF which can't be converted to a dictionary, it throws error. So reset the indices by using reset_index()"
      ]
    },
    {
      "cell_type": "code",
      "execution_count": null,
      "metadata": {
        "id": "D6QKljZXVdjQ",
        "outputId": "ca872bd3-58c2-437e-b3b1-1c93d1608761"
      },
      "outputs": [
        {
          "data": {
            "text/html": [
              "<div>\n",
              "<style scoped>\n",
              "    .dataframe tbody tr th:only-of-type {\n",
              "        vertical-align: middle;\n",
              "    }\n",
              "\n",
              "    .dataframe tbody tr th {\n",
              "        vertical-align: top;\n",
              "    }\n",
              "\n",
              "    .dataframe thead th {\n",
              "        text-align: right;\n",
              "    }\n",
              "</style>\n",
              "<table border=\"1\" class=\"dataframe\">\n",
              "  <thead>\n",
              "    <tr style=\"text-align: right;\">\n",
              "      <th></th>\n",
              "      <th>Batsmen</th>\n",
              "      <th>Runs</th>\n",
              "    </tr>\n",
              "  </thead>\n",
              "  <tbody>\n",
              "    <tr>\n",
              "      <th>0</th>\n",
              "      <td>Dhawan</td>\n",
              "      <td>41</td>\n",
              "    </tr>\n",
              "    <tr>\n",
              "      <th>1</th>\n",
              "      <td>Dube</td>\n",
              "      <td>1</td>\n",
              "    </tr>\n",
              "    <tr>\n",
              "      <th>2</th>\n",
              "      <td>Iyer</td>\n",
              "      <td>22</td>\n",
              "    </tr>\n",
              "    <tr>\n",
              "      <th>3</th>\n",
              "      <td>Pandya</td>\n",
              "      <td>15</td>\n",
              "    </tr>\n",
              "    <tr>\n",
              "      <th>4</th>\n",
              "      <td>Pant</td>\n",
              "      <td>27</td>\n",
              "    </tr>\n",
              "    <tr>\n",
              "      <th>5</th>\n",
              "      <td>Rahul</td>\n",
              "      <td>15</td>\n",
              "    </tr>\n",
              "    <tr>\n",
              "      <th>6</th>\n",
              "      <td>Sharma</td>\n",
              "      <td>9</td>\n",
              "    </tr>\n",
              "  </tbody>\n",
              "</table>\n",
              "</div>"
            ],
            "text/plain": [
              "   Batsmen  Runs\n",
              "0   Dhawan    41\n",
              "1     Dube     1\n",
              "2     Iyer    22\n",
              "3   Pandya    15\n",
              "4     Pant    27\n",
              "5    Rahul    15\n",
              "6   Sharma     9"
            ]
          },
          "execution_count": 44,
          "metadata": {},
          "output_type": "execute_result"
        }
      ],
      "source": [
        "BatTotali = BatTotal.reset_index()\n",
        "BatTotali"
      ]
    },
    {
      "cell_type": "code",
      "execution_count": null,
      "metadata": {
        "id": "BrJVagD8VdjR",
        "outputId": "4a8eb4e3-7330-4ef6-9d2f-12e995b945f5"
      },
      "outputs": [
        {
          "data": {
            "text/html": [
              "<div>\n",
              "<style scoped>\n",
              "    .dataframe tbody tr th:only-of-type {\n",
              "        vertical-align: middle;\n",
              "    }\n",
              "\n",
              "    .dataframe tbody tr th {\n",
              "        vertical-align: top;\n",
              "    }\n",
              "\n",
              "    .dataframe thead th {\n",
              "        text-align: right;\n",
              "    }\n",
              "</style>\n",
              "<table border=\"1\" class=\"dataframe\">\n",
              "  <thead>\n",
              "    <tr style=\"text-align: right;\">\n",
              "      <th></th>\n",
              "      <th>Bowler</th>\n",
              "      <th>Runs</th>\n",
              "    </tr>\n",
              "  </thead>\n",
              "  <tbody>\n",
              "    <tr>\n",
              "      <th>0</th>\n",
              "      <td>Hossain</td>\n",
              "      <td>39</td>\n",
              "    </tr>\n",
              "    <tr>\n",
              "      <th>1</th>\n",
              "      <td>Islam</td>\n",
              "      <td>51</td>\n",
              "    </tr>\n",
              "    <tr>\n",
              "      <th>2</th>\n",
              "      <td>Mahmudullah</td>\n",
              "      <td>9</td>\n",
              "    </tr>\n",
              "    <tr>\n",
              "      <th>3</th>\n",
              "      <td>Rahman</td>\n",
              "      <td>15</td>\n",
              "    </tr>\n",
              "    <tr>\n",
              "      <th>4</th>\n",
              "      <td>Sarkar</td>\n",
              "      <td>16</td>\n",
              "    </tr>\n",
              "  </tbody>\n",
              "</table>\n",
              "</div>"
            ],
            "text/plain": [
              "        Bowler  Runs\n",
              "0      Hossain    39\n",
              "1        Islam    51\n",
              "2  Mahmudullah     9\n",
              "3       Rahman    15\n",
              "4       Sarkar    16"
            ]
          },
          "execution_count": 45,
          "metadata": {},
          "output_type": "execute_result"
        }
      ],
      "source": [
        "BowlTotali = BowlTotal.reset_index()\n",
        "BowlTotali"
      ]
    },
    {
      "cell_type": "code",
      "execution_count": null,
      "metadata": {
        "id": "YhWISMUjVdjR",
        "outputId": "592a8e34-37e9-4df4-db77-f9872cd15fc5"
      },
      "outputs": [
        {
          "data": {
            "text/plain": [
              "{' Dhawan': 41,\n",
              " ' Dube': 1,\n",
              " ' Iyer': 22,\n",
              " ' Pandya': 15,\n",
              " ' Pant': 27,\n",
              " ' Rahul': 15,\n",
              " ' Sharma': 9}"
            ]
          },
          "execution_count": 46,
          "metadata": {},
          "output_type": "execute_result"
        }
      ],
      "source": [
        "BatDict = dict(zip(BatTotali.Batsmen,BatTotali.Runs))\n",
        "BatDict"
      ]
    },
    {
      "cell_type": "code",
      "execution_count": null,
      "metadata": {
        "id": "BZ2xjkegVdjS",
        "outputId": "6ab9ee00-35f2-404b-b7e3-aca924dc7ebe"
      },
      "outputs": [
        {
          "data": {
            "text/plain": [
              "{'Hossain': 39, 'Islam': 51, 'Mahmudullah': 9, 'Rahman': 15, 'Sarkar': 16}"
            ]
          },
          "execution_count": 47,
          "metadata": {},
          "output_type": "execute_result"
        }
      ],
      "source": [
        "BowlDict = dict(zip(BowlTotali.Bowler,BowlTotali.Runs))\n",
        "BowlDict"
      ]
    },
    {
      "cell_type": "markdown",
      "metadata": {
        "id": "w4tBOgFvVdjS"
      },
      "source": [
        "## Stats: ##"
      ]
    },
    {
      "cell_type": "raw",
      "metadata": {
        "id": "ElFW2_K9VdjU"
      },
      "source": [
        "\n",
        "# Python3 code to iterate through all key, value  \n",
        "# pairs in a dictionary \n",
        "  \n",
        "statesAndCapitals = { \n",
        "                     'Gujarat' : 'Gandhinagar', \n",
        "                     'Maharashtra' : 'Mumbai', \n",
        "                     'Rajasthan' : 'Jaipur', \n",
        "                     'Bihar' : 'Patna'\n",
        "                    } \n",
        "                      \n",
        "print('List Of given states and their capitals:\\n') \n",
        "  \n",
        "# Iterating over values \n",
        "for state, capital in statesAndCapitals.items(): \n",
        "    print(state, \":\", capital) \n"
      ]
    },
    {
      "cell_type": "code",
      "execution_count": null,
      "metadata": {
        "id": "ccPSeYVDVdjV",
        "outputId": "4ae791e5-c90c-4df8-a07b-f361b02ccca2"
      },
      "outputs": [
        {
          "name": "stdout",
          "output_type": "stream",
          "text": [
            "Runs scored by batsmen:\n",
            " Dhawan : 41\n",
            " Dube : 1\n",
            " Iyer : 22\n",
            " Pandya : 15\n",
            " Pant : 27\n",
            " Rahul : 15\n",
            " Sharma : 9\n"
          ]
        }
      ],
      "source": [
        "print('Runs scored by batsmen:')\n",
        "for batsman, runs in BatDict.items():\n",
        "    print(batsman, ':', runs)"
      ]
    },
    {
      "cell_type": "code",
      "execution_count": null,
      "metadata": {
        "id": "xtNUQwahVdjW",
        "outputId": "fac1822c-64c7-40fd-b007-23649cb28e3e"
      },
      "outputs": [
        {
          "name": "stdout",
          "output_type": "stream",
          "text": [
            "Runs conceded by bowlers:\n",
            "Hossain : 39\n",
            "Islam : 51\n",
            "Mahmudullah : 9\n",
            "Rahman : 15\n",
            "Sarkar : 16\n"
          ]
        }
      ],
      "source": [
        "print('Runs conceded by bowlers:')\n",
        "for bowler, runs in BowlDict.items():\n",
        "    print(bowler, ':', runs)"
      ]
    },
    {
      "cell_type": "code",
      "execution_count": null,
      "metadata": {
        "id": "RqdU9e2DVdjX",
        "outputId": "d7c27546-7037-4905-da75-a751b4dbf698"
      },
      "outputs": [
        {
          "name": "stdout",
          "output_type": "stream",
          "text": [
            "Wickets taken by bowlers:\n",
            "Sarkar : 0\n",
            "Hossain : 1\n",
            "Rahman : 0\n",
            "Mahmudullah : 0\n",
            "Islam : 4\n"
          ]
        }
      ],
      "source": [
        "print('Wickets taken by bowlers:')\n",
        "for bowler, wickets in WicketDict.items():\n",
        "    print(bowler, ':', wickets)"
      ]
    },
    {
      "cell_type": "code",
      "execution_count": null,
      "metadata": {
        "id": "0yFzw64AVdjX"
      },
      "outputs": [],
      "source": [
        ""
      ]
    }
  ],
  "metadata": {
    "kernelspec": {
      "display_name": "Python 3",
      "language": "python",
      "name": "python3"
    },
    "language_info": {
      "codemirror_mode": {
        "name": "ipython",
        "version": 3
      },
      "file_extension": ".py",
      "mimetype": "text/x-python",
      "name": "python",
      "nbconvert_exporter": "python",
      "pygments_lexer": "ipython3",
      "version": "3.7.3"
    },
    "colab": {
      "name": "ScoreStatsFrmCommentary.ipynb",
      "provenance": [],
      "include_colab_link": true
    }
  },
  "nbformat": 4,
  "nbformat_minor": 0
}