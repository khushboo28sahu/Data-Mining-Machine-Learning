{
  "cells": [
    {
      "cell_type": "markdown",
      "metadata": {
        "id": "view-in-github",
        "colab_type": "text"
      },
      "source": [
        "<a href=\"https://colab.research.google.com/github/khushboo28sahu/Data-Mining-Machine-Learning/blob/main/scoreboard.ipynb\" target=\"_parent\"><img src=\"https://colab.research.google.com/assets/colab-badge.svg\" alt=\"Open In Colab\"/></a>"
      ]
    },
    {
      "cell_type": "code",
      "execution_count": null,
      "metadata": {
        "id": "9qHJChUyT_VM",
        "outputId": "f3731749-6eeb-4d32-91d9-6f245e3cd821"
      },
      "outputs": [
        {
          "name": "stdout",
          "output_type": "stream",
          "text": [
            "orange is abbreviated as or\n",
            "florida is abbreviated as fl\n",
            "california is abbreviated as cl\n"
          ]
        }
      ],
      "source": [
        "states={'orange':'or','florida':'fl','california':'cl'}\n",
        "cities={'cl':'california','fl':'florida','or':'orange'}\n",
        "for state,abbrev in list(states.items()):\n",
        "    print(f\"{state} is abbreviated as {abbrev}\")"
      ]
    },
    {
      "cell_type": "code",
      "execution_count": null,
      "metadata": {
        "id": "l-J0BCZrT_VQ",
        "outputId": "aad783db-bcf2-4bb6-f46b-dbd29079924a"
      },
      "outputs": [
        {
          "name": "stdout",
          "output_type": "stream",
          "text": [
            "cl is having the states as california\n",
            "fl is having the states as california\n",
            "or is having the states as california\n"
          ]
        }
      ],
      "source": [
        "for abbrev,city in list(cities.items()):\n",
        "    print(f\"{abbrev} is having the states as {state}\")"
      ]
    },
    {
      "cell_type": "code",
      "execution_count": null,
      "metadata": {
        "id": "_vDAGi2sT_VR",
        "outputId": "4433932a-3345-4a62-c233-981280a69c3e"
      },
      "outputs": [
        {
          "name": "stdout",
          "output_type": "stream",
          "text": [
            "15.6\n",
            "0\n",
            "Pandya to Soumya Sarkar, no run, slower and wider outside off, goes for the sweep but misses. Pant dislodges the bails but the back foot was always grounded. An easy one for third umpire\n",
            "15.5\n",
            "2\n",
            "Pandya to Soumya Sarkar, 2 runs, short of length and Soumya pulls it towards deep square leg, the ball spins at Chahar who fumbles but recovers in time to keep it to two\n",
            "15.4\n",
            "1\n",
            "Pandya to Mushfiqur Rahim, 1 run, another reverse sweep from Mushfiqur and once again he fails to beat short third man\n",
            "15.4\n",
            "1w\n",
            "Pandya to Mushfiqur Rahim, 1 wide, another full toss but too wide outside off this time\n",
            "15.3\n",
            "0\n",
            "Pandya to Mushfiqur Rahim, no run, a full toss outside off, Mushfiqur was trying to create some room, fails to put bat on the dipping ball\n",
            "15.2\n",
            "1\n",
            "Pandya to Soumya Sarkar, 1 run, fuller and wider outside off, smashed along the ground, Rohit dives to his right to save three runs\n",
            "15.1\n",
            "1\n",
            "Pandya to Mushfiqur Rahim, 1 run, length ball on middle and leg, goes for the reverse sweep, doesn't middle it, a quick single to short third man\n",
            "14.6\n",
            "1\n",
            "Ahmed to Mushfiqur Rahim, 1 run, short of length outside off, cuts it towards deep point\n",
            "14.5\n",
            "1lb\n",
            "Ahmed to Soumya Sarkar, 1 leg bye, length ball on the pads, tucked away behind square leg\n",
            "Abhishek: \"I can't possibly think of a way India can win the match... Unless we take 2 wickets and get new batsmen in the crease before end of 16th\"\n",
            "14.4\n",
            "1\n",
            "Ahmed to Mushfiqur Rahim, 1 run, a bouncer this time, at the batsman, Mushfiqur swivel-pulls it towards deep-backward square leg\n",
            "14.3\n",
            "0\n",
            "Ahmed to Mushfiqur Rahim, no run, short of length outside off, Mushfiqur looks to cut it up and over, misses\n",
            "14.2\n",
            "1lb\n",
            "Ahmed to Soumya Sarkar, 1 leg bye, length ball around off, moves across and looks to flick it between the keeper and short fine leg, misses though and is struck on thigh. An appeal for lbw but the impact was way outside off. A direct hit at the bowler's end and Soumya would have been out\n",
            "14.1\n",
            "1\n",
            "Ahmed to Mushfiqur Rahim, 1 run, length ball angling away, guides it towards third man\n",
            "\n"
          ]
        }
      ],
      "source": [
        "df=open(\"Score_board.txt\",'r')\n",
        "print(df.read())"
      ]
    },
    {
      "cell_type": "code",
      "execution_count": null,
      "metadata": {
        "id": "E0S3hMABT_VT"
      },
      "outputs": [],
      "source": [
        "scores={'1 RUN':'1','2 RUN':'2','3 RUN':'3','4 RUN':'4','5 RUN':'5','SIX RUN':'6','NO RUN':'0','LEG BYE':'1','LEG BYE':'1'}\n",
        "run={}\n",
        "batsman=[]\n",
        "bowller=[]\n",
        "for line in df.read():\n",
        "    line.strip()\n",
        "    line1=line.split(',')\n",
        "    if \"to\" in line1[0] and ',' in line1[0]:\n",
        "        list1=line1[0].split('to')\n",
        "        bowller=list1[0]\n",
        "        batsman=list1[1]\n",
        "        if line1[1].upper()==score.item():\n",
        "            run['batsman']=\n",
        "            "
      ]
    },
    {
      "cell_type": "code",
      "execution_count": null,
      "metadata": {
        "id": "nNkgMd11T_VU"
      },
      "outputs": [],
      "source": [
        ""
      ]
    }
  ],
  "metadata": {
    "kernelspec": {
      "display_name": "Python 3",
      "language": "python",
      "name": "python3"
    },
    "language_info": {
      "codemirror_mode": {
        "name": "ipython",
        "version": 3
      },
      "file_extension": ".py",
      "mimetype": "text/x-python",
      "name": "python",
      "nbconvert_exporter": "python",
      "pygments_lexer": "ipython3",
      "version": "3.7.3"
    },
    "colab": {
      "name": "scoreboard.ipynb",
      "provenance": [],
      "include_colab_link": true
    }
  },
  "nbformat": 4,
  "nbformat_minor": 0
}